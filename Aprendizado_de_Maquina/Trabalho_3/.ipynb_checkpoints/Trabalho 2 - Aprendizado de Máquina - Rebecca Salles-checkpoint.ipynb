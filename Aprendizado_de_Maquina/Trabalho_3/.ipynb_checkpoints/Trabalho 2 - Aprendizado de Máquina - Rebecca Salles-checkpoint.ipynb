{
 "cells": [
  {
   "cell_type": "markdown",
   "metadata": {},
   "source": [
    "## Programa de Pós-Graduação em Ciência da Computação - CEFET/RJ\n",
    "## Trabalho 2 - Aprendizado de Máquina"
   ]
  },
  {
   "cell_type": "markdown",
   "metadata": {},
   "source": [
    "#### Aluna: Rebecca Pontes Salles, Professor: Eduardo Bezerra, Data: 31/10/2017"
   ]
  },
  {
   "cell_type": "markdown",
   "metadata": {},
   "source": [
    "### Introdução"
   ]
  },
  {
   "cell_type": "markdown",
   "metadata": {},
   "source": [
    "O seguinte relatório apresenta o desenvolvimento do segundo trabalho prático da disciplina de Aprendizado de Máquina do curso de Mestrado em Ciência da Computação do CEFET/RJ. Este trabalho envolveu a implementação dos métodos de regressão logística e regressão linear/polinomial com regularização (2A), assim como a implementação de algoritmos de detecção de anomalias e aprendizagem de filtragem colaborativa (2B), utilizando a linguagem Python. Dados foram fornecidos como exemplo para aplicação dos códigos produzidos. A seguir é apresentado o código utilizado durante o trabalho para importação dos dados. Atenção deve ser dada ao fato deste código adicionar uma coluna de valores 1 (característica _x0_) aos dados de maneira a facilitar futuros cálculos de multiplicação de matrizes."
   ]
  },
  {
   "cell_type": "code",
   "execution_count": 1,
   "metadata": {
    "collapsed": true
   },
   "outputs": [],
   "source": [
    "import numpy as np\n",
    "import pandas as pd  \n",
    "import os\n",
    "\n",
    "#filepath = caminho do arquivo de dados\n",
    "#names = nomes dados às colunas/variáveis\n",
    "def importarDados(filepath,names):\n",
    "    path = os.getcwd() + filepath  \n",
    "    data = pd.read_csv(path, header=None, names=names)\n",
    "\n",
    "    # adiciona uma coluna de 1s referente a variavel x0\n",
    "    data.insert(0, 'Ones', 1)\n",
    "    \n",
    "    # separa os conjuntos de dados x (caracteristicas) e y (alvo)\n",
    "    cols = data.shape[1]  \n",
    "    x = data.iloc[:,0:cols-1]  \n",
    "    y = data.iloc[:,cols-1:cols]\n",
    "    \n",
    "    # converte os valores em numpy arrays\n",
    "    x = np.array(x.values)  \n",
    "    y = np.array(y.values)\n",
    "    \n",
    "    return x,y"
   ]
  },
  {
   "cell_type": "markdown",
   "metadata": {},
   "source": [
    "### Trabalho 2A - Parte 1 - Regressão Logística com Regularização"
   ]
  },
  {
   "cell_type": "markdown",
   "metadata": {},
   "source": [
    "A primeira parte do trabalho 2A se referia à análise, implementação e prática do método de regressão logística regularizada. Para isso, foi utilizado o arquivo __ex2data2.txt__ contendo três colunas de dados relacionados a testes para a garantia de qualidade (QA) de microchips de uma usina de fabricação. A primeira coluna corresponde aos resultados do primeiro teste,  enquanto que a segunda coluna corresponde aos resultados do segundo teste. A terceira coluna contém os valores da classe (y = 0 significa rejeitado no teste, e y = 1 significa aceito no teste).\n",
    "\n",
    "A tarefa principal desta parte é portanto construir um modelo de classificação que provê uma estimativa da probabilidade de aceitação de um microship, com base nos resultados de testes anteriores sobre microchips."
   ]
  },
  {
   "cell_type": "markdown",
   "metadata": {},
   "source": [
    "#### 1.1 - Visualização dos Dados"
   ]
  },
  {
   "cell_type": "markdown",
   "metadata": {},
   "source": [
    "Como primeira tarefa, foi pedida a implementação de um script em Python para a produção de um _gráfico de dispersão_ para melhor visualização dos dados fornecidos. O script e o gráfico gerado são apresentados a seguir."
   ]
  },
  {
   "cell_type": "code",
   "execution_count": 2,
   "metadata": {},
   "outputs": [
    {
     "data": {
      "image/png": "[encoded data removed]",
      "text/plain": [
       "<matplotlib.figure.Figure at 0x9f56c88>"
      ]
     },
     "metadata": {},
     "output_type": "display_data"
    }
   ],
   "source": [
    "import matplotlib.pyplot as plt\n",
    "\n",
    "# importa os dados\n",
    "filepath = \"\\Trabalho 2\\ex2data2.txt\"\n",
    "x,y = importarDados(filepath,['Microship Test 1', 'Microship Test 2', 'Aceito'])\n",
    "\n",
    "# subconjunto de microships aceitos\n",
    "x_a = [xi[np.where(y == 1)[0]] for xi in x.T]\n",
    "# subconjunto de microships rejeitados\n",
    "x_na = [xi[np.where(y == 0)[0]] for xi in x.T]\n",
    "\n",
    "adm, = plt.plot(x_a[1], x_a[2], \"+\", c=\"black\", label=\"y = 1\")\n",
    "nadm, = plt.plot(x_na[1], x_na[2], \"o\", c=\"yellow\", label=\"y = 0\")\n",
    "plt.xlabel('Microship Test 1')\n",
    "plt.ylabel('Microship Test 2')\n",
    "plt.legend(handles=[adm, nadm], loc='upper right')\n",
    "plt.show()"
   ]
  },
  {
   "cell_type": "markdown",
   "metadata": {},
   "source": [
    "#### 1.2 - Mapeamento de características (_feature mapping_)"
   ]
  },
  {
   "cell_type": "markdown",
   "metadata": {},
   "source": [
    "A próxima tarefa desta parte do trabalho foi implementar uma função denominada __mapFeature__ no arquivo __mapFeature.py__. Esta função tem como entrada a matriz de características _x_ e tem o propósito de mapear as características para todos os termos polinomiais de _x1_ e _x2_, até a sexta potência aplicando-se a transformação observada na equação a seguir.\n",
    "<img src=\"mapFeature.png\" alt=\"mapFeature\" style=\"width: 200px;\"/>\n",
    "\n",
    "Como resultado desse mapeamento, nosso vetor de duas características (os resultados em dois testes de QA) será transformado em um vetor de 28 dimensões. Um classificador que usa regressão logística treinado nesse vetor de características de maior  dimensão terá uma fronteira de decisão mais complexa e parecerá não linear quando desenhado em um gráfico bidimensional. O código desta função pode ser visto a seguir."
   ]
  },
  {
   "cell_type": "code",
   "execution_count": 3,
   "metadata": {
    "collapsed": true
   },
   "outputs": [],
   "source": [
    "def mapFeature(x1,x2, degree=6):\n",
    "    m = len(x1)\n",
    "    \n",
    "    #inicializações\n",
    "    num_features = (degree + 1) * (degree + 2) / 2\n",
    "    featureMap = np.empty(shape=(m, num_features), dtype=float)\n",
    "    \n",
    "    col = 0\n",
    "    for i in xrange(0,degree+1):\n",
    "        for j in xrange(0,i+1):\n",
    "            featureMap[:,col] = x1**(i - j) * x2**j\n",
    "            col+=1\n",
    "    \n",
    "    featureMap = np.array(np.matrix(featureMap))\n",
    "    \n",
    "    return featureMap"
   ]
  },
  {
   "cell_type": "markdown",
   "metadata": {},
   "source": [
    "#### 1.3 - Função de custo e gradiente"
   ]
  },
  {
   "cell_type": "markdown",
   "metadata": {},
   "source": [
    "Em seguida a tarefa definida foi implementar o código para calcular a função de custo e o gradiente para a regressão logística regularizada.\n",
    "\n",
    "Para isso foi criada uma função em Python denominada __costFunctionReg__ no arquivo __costFunctionReg.py__, que computa o custo e o gradiente. A função implementa a seguinte equação\n",
    "![custoRegLogRegularizada](custoRegLogRegularizada.png)\n",
    "tendo como entrada a matriz de valores/características _x_, a matriz de única coluna _y_ contendo a variável alvo, a lista de parâmetros _tetha_ e o parâmetro de regularização _lamda_ (lambda). A função __costFunctionReg__ retorna o valor da função de custo da regressão com parâmetros _theta_, assim como o seu vetor gradiente, ou seja, o vetor\n",
    "![gradiente](gradiente.png)\n",
    "onde\n",
    "![gradRegLogRegularizada](gradRegLogRegularizada.png).\n",
    "Foi criada também neste arquivo uma função auxiliar __htheta__ para cumputar o valor de\n",
    "<img src=\"htheta_reglog.png\" alt=\"htheta_reglog\" style=\"width: 320px;\"/>.\n",
    "\n",
    "A função _g_ foi implementada em Python como a função __sigmoide__ no arquivo __sigmoide.py__. A função calcula o valor da função sigmoide dado um valor, vetor ou uma matriz númerica, aplicando a função sigmoide a cada componente. A função sigmoide implementa a seguinte equação:\n",
    "<img src=\"sigmoide.png\" alt=\"sigmoide\" style=\"width: 200px;\"/>.\n",
    "\n",
    "Os códigos destas funções podem ser vistos a seguir."
   ]
  },
  {
   "cell_type": "code",
   "execution_count": 4,
   "metadata": {
    "collapsed": true
   },
   "outputs": [],
   "source": [
    "def costFunctionReg(x,y,theta,lamda):\n",
    "    x = np.matrix(x)\n",
    "    y = np.matrix(y)\n",
    "    theta = np.matrix(theta)\n",
    "    m = len(x)\n",
    "    \n",
    "    first_term = np.multiply(-y, np.log(htheta(x,theta)))\n",
    "    second_term = np.multiply((1 - y), np.log(1 - htheta(x,theta)))\n",
    "    regularization_term = (float(lamda)/(2.0*m)) * np.sum(np.power(theta[:,1:],2))\n",
    "    \n",
    "    JTheta = np.sum(first_term - second_term) / m + regularization_term\n",
    "    \n",
    "    parameters = int(theta.ravel().shape[1])\n",
    "    grad = np.zeros(parameters)\n",
    "        \n",
    "    for j in range(parameters):\n",
    "        regularization_term = 0 if j == 0 else (float(lamda)/m)*theta[:,j]\n",
    "        grad[j] = np.sum( np.multiply((htheta(x,theta) - y), x[:,j]) ) / m + regularization_term\n",
    "    \n",
    "    return JTheta, grad\n",
    "\n",
    "def htheta(x,theta):\n",
    "    return sigmoide( x * theta.T )\n",
    "\n",
    "def sigmoide(z):\n",
    "    return 1.0 / (1 + np.exp(-z))"
   ]
  },
  {
   "cell_type": "markdown",
   "metadata": {},
   "source": [
    "A corretude destas funções foi verificada executando-as com todos os parâmetros theta iguais a zero ([0,0]) e lambda = 1. Assim como esperado, a função __costFunctionReg__ gerou aproximadamente o valor 0.693 para a função de custo da regressão."
   ]
  },
  {
   "cell_type": "code",
   "execution_count": 35,
   "metadata": {},
   "outputs": [
    {
     "name": "stdout",
     "output_type": "stream",
     "text": [
      "Custo: 0.69314718056\n",
      "Gradiente: [  8.47457627e-03   1.87880932e-02   7.77711864e-05   5.03446395e-02\n",
      "   1.15013308e-02   3.76648474e-02   1.83559872e-02   7.32393391e-03\n",
      "   8.19244468e-03   2.34764889e-02   3.93486234e-02   2.23923907e-03\n",
      "   1.28600503e-02   3.09593720e-03   3.93028171e-02   1.99707467e-02\n",
      "   4.32983232e-03   3.38643902e-03   5.83822078e-03   4.47629067e-03\n",
      "   3.10079849e-02   3.10312442e-02   1.09740238e-03   6.31570797e-03\n",
      "   4.08503006e-04   7.26504316e-03   1.37646175e-03   3.87936363e-02]\n"
     ]
    }
   ],
   "source": [
    "#mapeia características até o grau 6\n",
    "x_mapped = mapFeature(x[:,1],x[:,2])\n",
    "\n",
    "#inicializa parâmetros theta iniciais\n",
    "initial_theta = np.zeros(x_mapped.shape[1])\n",
    "#inicializa lambda\n",
    "lamda = 1\n",
    "\n",
    "#computa custo\n",
    "J,grad = costFunctionReg(x_mapped,y,initial_theta,lamda)\n",
    "\n",
    "print \"Custo: \" + str(J) + \"\\nGradiente: \" + str(grad)"
   ]
  },
  {
   "cell_type": "markdown",
   "metadata": {},
   "source": [
    "Em seguida a tarefa definida foi computar os valores ótimos para θ, ou seja, determinar os parâmetros do modelo de regressão logística. Esta tarefa foi feita por meio do algoritmo Gradiente Descendente (GD) (versão _batch_).\n",
    "\n",
    "A implementação do algoritmo, feita na função __gd__ no arquivo de nome __gdReg.py__, faz chamadas apropriadas à função __costFunctionReg__ de modo a obter os valores da função de custo e o vetor gradiente. A função implementa o seguinte algoritmo\n",
    "![GD_RegLogRegularizada](GD_RegLogRegularizada.png)\n",
    "\n",
    "Esta função __gd__ tem como entrada a matriz de valores/características _x_, a matriz de única coluna _y_ contendo a variável alvo, a lista de parâmetros iniciais _tetha_, o valor da taxa de aprendizado _alpha_ e o parâmetro de regularização _lamda_ (lambda). O retorno da função é a tupla com o vetor de parâmetros _theta_ otimizados, o valor da função de custo (J(θ)) calculado com estes parâmetros, uma variável booleana que indica a convergência ou não do algoritmo e uma variável numérica com o número de iterações executadas pelo GD.\n",
    "\n",
    "A função de GD pode ser vista a seguir."
   ]
  },
  {
   "cell_type": "code",
   "execution_count": 29,
   "metadata": {
    "collapsed": true
   },
   "outputs": [],
   "source": [
    "def gd(x,y,theta,alpha,lamda):\n",
    "    maxiterations = 100000\n",
    "    precision = 0.00001\n",
    "    converged = False\n",
    "    \n",
    "    iteration = 0\n",
    "    \n",
    "    Jtheta, grad = costFunctionReg(x,y,theta,lamda)\n",
    "    \n",
    "    while not converged and iteration < maxiterations:\n",
    "        iteration += 1\n",
    "        for j in range(len(theta)):\n",
    "            theta[j] = theta[j] - alpha * grad[j]\n",
    "        \n",
    "        new_Jtheta, new_grad = costFunctionReg(x,y,theta,lamda)\n",
    "        step = Jtheta - new_Jtheta\n",
    "        Jtheta, grad = new_Jtheta, new_grad \n",
    "\n",
    "        if step > 0 and step <= precision:\n",
    "            converged = True\n",
    "    \n",
    "    return theta,Jtheta,converged,iteration"
   ]
  },
  {
   "cell_type": "markdown",
   "metadata": {},
   "source": [
    "Código para calcular os valores ótimos para θ do modelo de regressão logística:"
   ]
  },
  {
   "cell_type": "code",
   "execution_count": 36,
   "metadata": {},
   "outputs": [
    {
     "name": "stdout",
     "output_type": "stream",
     "text": [
      "GD converged: True, Iterations: 4303\n",
      "Custo: 0.559612593403\n",
      "Theta ótimo: [  8.47457627e-03   1.87880932e-02   7.77711864e-05   5.03446395e-02\n",
      "   1.15013308e-02   3.76648474e-02   1.83559872e-02   7.32393391e-03\n",
      "   8.19244468e-03   2.34764889e-02   3.93486234e-02   2.23923907e-03\n",
      "   1.28600503e-02   3.09593720e-03   3.93028171e-02   1.99707467e-02\n",
      "   4.32983232e-03   3.38643902e-03   5.83822078e-03   4.47629067e-03\n",
      "   3.10079849e-02   3.10312442e-02   1.09740238e-03   6.31570797e-03\n",
      "   4.08503006e-04   7.26504316e-03   1.37646175e-03   3.87936363e-02]\n"
     ]
    }
   ],
   "source": [
    "#inicializa alpha\n",
    "alpha = 0.01\n",
    "\n",
    "#executa GD da regressão logística regularizada\n",
    "theta,Jtheta,converged,iterations = gd(x_mapped,y,initial_theta,alpha,lamda)\n",
    "print(\"GD converged: \" + str(converged) + \", Iterations: \" + str(iterations))\n",
    "print \"Custo: \" + str(Jtheta) + \"\\nTheta ótimo: \" + str(grad)"
   ]
  },
  {
   "cell_type": "markdown",
   "metadata": {},
   "source": [
    "#### 1.4 - Esboção da fronteira de decisão"
   ]
  },
  {
   "cell_type": "markdown",
   "metadata": {},
   "source": [
    "A próxima tarefa desta parte do trabalho foi esboçar (plotar) a fronteira de decisão que foi aprendida para separar os exemplos positivos dos negativos. O código, implementado no arquivo __plotDecisionBoundary.py__, para criar o gráfico que traça o limite de decisão não-linear é apresentado a seguir."
   ]
  },
  {
   "cell_type": "code",
   "execution_count": 37,
   "metadata": {},
   "outputs": [
    {
     "data": {
      "image/png": "[encoded data removed]",
      "text/plain": [
       "<matplotlib.figure.Figure at 0xa8b3710>"
      ]
     },
     "metadata": {},
     "output_type": "display_data"
    }
   ],
   "source": [
    "#plota os dados de microships aceitos e rejeitados\n",
    "adm, = plt.plot(x_a[1], x_a[2], \"+\", c=\"black\", label=\"y = 1\")\n",
    "nadm, = plt.plot(x_na[1], x_na[2], \"o\", c=\"yellow\", label=\"y = 0\")\n",
    "\n",
    "#computa valores da fronteira de decisão\n",
    "z = np.zeros([50, 50])\n",
    "test1 = np.linspace(-1.0, 1.5, 50)\n",
    "test2 = np.linspace(-1.0, 1.5, 50)\n",
    "for i, t1 in enumerate(test1):\n",
    "    for j, t2 in enumerate(test2): \n",
    "        z[i, j] = np.dot(mapFeature(np.array([[t1]]),np.array([[t2]])), np.matrix(theta).T)[0]\n",
    "        \n",
    "#plota a fronteira de decisão\n",
    "db = plt.contour(test1, test2, z.T, [0], colors='dodgerblue')\n",
    "db.collections[0].set_label(\"Decision boundary\")\n",
    "\n",
    "plt.xlabel('Microship Test 1')\n",
    "plt.ylabel('Microship Test 2')\n",
    "plt.title('Decision boundary for lambda = ' + str(lamda))\n",
    "plt.legend(loc='upper right')\n",
    "plt.show()"
   ]
  },
  {
   "cell_type": "markdown",
   "metadata": {},
   "source": [
    "### Trabalho 2A - Parte 2 - Regressão Linear com Regularização"
   ]
  },
  {
   "cell_type": "markdown",
   "metadata": {},
   "source": [
    "A segunda parte do trabalho se refere à implementação e aplicação do método de regressão linear com regularização para prever a quantidade de água fluindo de uma barragem usando informações da mudança do nível da água em um reservatório.. Para isso, foi utilizado o arquivo __ex5data1.mat__ contendo três colunas de dados relacionados ao preço de venda de imóveis. A primeira coluna corresponde ao tamanho do imóvel (em pés quadrados), a segunda coluna corresponde à quantidade de dormitórios no imóvel em questão e a terceira coluna corresponde ao preço do imóvel.\n",
    "\n",
    "Nesse arquivo, há registros históricos na mudança no nível da água, _x_, e da quantidade de água que sai da barragem, _y_. Este conjunto de dados é dividido em três partes:\n",
    "1. Um conjunto de treinamento que o modelo aprenderá em: _X_, _y_\n",
    "2. Um conjunto de validação cruzada para determinar o parâmetro de regularização: _Xval_, _yval_\n",
    "3. Um conjunto de testes para avaliar o desempenho. Estes exemplos não serão usados durante o treino: _Xtest_, _ytest_"
   ]
  },
  {
   "cell_type": "markdown",
   "metadata": {},
   "source": [
    "#### 2.1 - Visualização dos dados"
   ]
  },
  {
   "cell_type": "markdown",
   "metadata": {},
   "source": [
    "Como primeira tarefa da parte 2 deste tarabalho foi pedida a implementação de um gráfico para produzir uma visualização do conjunto de dados de treinamento (_X_, _y_). A seguir o código produzido:"
   ]
  },
  {
   "cell_type": "code",
   "execution_count": 104,
   "metadata": {},
   "outputs": [
    {
     "data": {
      "image/png": "[encoded data removed]",
      "text/plain": [
       "<matplotlib.figure.Figure at 0xdf3e048>"
      ]
     },
     "metadata": {},
     "output_type": "display_data"
    }
   ],
   "source": [
    "import scipy.io as spio\n",
    "\n",
    "#Carrega dados\n",
    "mat = spio.loadmat('Trabalho 2\\ex5data1.mat', squeeze_me=True)\n",
    "\n",
    "#atribui dados a variáveis correspondentes\n",
    "X = mat['X']\n",
    "Xtest = mat['Xtest']\n",
    "Xval = mat['Xval']\n",
    "\n",
    "y = mat['y']\n",
    "ytest = mat['ytest']\n",
    "yval = mat['yval']\n",
    "\n",
    "#plota os dados\n",
    "plt.plot(X, y, \"x\", c=\"red\")\n",
    "plt.xlabel('Change in water level (x)')\n",
    "plt.ylabel('Water flowing out of the dam (y)')\n",
    "plt.show()"
   ]
  },
  {
   "cell_type": "markdown",
   "metadata": {},
   "source": [
    "#### 2.2 e 2.3 - Função de custo e gradiente da regressão linear regularizada"
   ]
  },
  {
   "cell_type": "markdown",
   "metadata": {},
   "source": [
    "Em seguida a tarefa definida foi implementar o código para calcular a função de custo e o gradiente para a regressão linear regularizada.\n",
    "\n",
    "Para isso foi criada uma função em Python denominada __linearRegCostFunction__ no arquivo __linearRegCostFunction.py__, que computa o custo e o gradiente. A função implementa a seguinte equação\n",
    "![custoLinearRegRegularizada](custoLinearRegRegularizada.png)\n",
    "tendo como entrada a matriz de valores/características _x_, a matriz de única coluna _y_ contendo a variável alvo, a lista de parâmetros _tetha_ e o parâmetro de regularização _lamda_ (lambda). A função __linearRegCostFunction__ retorna o valor da função de custo da regressão com parâmetros _theta_, assim como o seu vetor gradiente, ou seja, o vetor\n",
    "![gradiente](gradiente.png)\n",
    "onde\n",
    "![gradLinearRegRegularizada](gradLinearRegRegularizada.png).\n",
    "Foi criada também neste arquivo uma função auxiliar __htheta__ para cumputar o valor de\n",
    "<img src=\"htheta_multi.png\" alt=\"htheta_multi\" style=\"width: 200px;\"/>.\n",
    "\n",
    "Os códigos destas funções podem ser vistos a seguir."
   ]
  },
  {
   "cell_type": "code",
   "execution_count": 105,
   "metadata": {
    "collapsed": true
   },
   "outputs": [],
   "source": [
    "def linearRegCostFunction(x,y,theta,lamda):\n",
    "    x = np.matrix(x)\n",
    "    y = np.matrix(y).T\n",
    "    #theta = np.matrix(theta)\n",
    "    m = len(x)\n",
    "    \n",
    "    regularization_term = (float(lamda)/(2*m)) * np.sum(np.power(theta[1:theta.shape[0]],2))\n",
    "    \n",
    "    JTheta = np.sum( np.power((htheta(x,theta) - y),2) ) / (2.0*m) + regularization_term\n",
    "    \n",
    "    parameters = int(theta.ravel().shape[0])\n",
    "    grad = np.zeros(parameters)\n",
    "\n",
    "    for j in range(parameters):\n",
    "        regularization_term = 0 if j == 0 else (float(lamda)/m)*theta[j]\n",
    "        grad[j] = np.sum( np.multiply((htheta(x,theta) - y), x[:,j]) ) / m + regularization_term\n",
    "\n",
    "    return JTheta, grad\n",
    "\n",
    "def htheta(x,theta):\n",
    "    return np.dot(x, theta)"
   ]
  },
  {
   "cell_type": "markdown",
   "metadata": {},
   "source": [
    "A corretude destas funções foi verificada executando-as com todos os parâmetros theta iguais a um ([1,1]) e lambda igual a 1. Assim como esperado, a função __linearRegCostFunction__ gerou aproximadamente o valor 303.993 para a função de custo da regressão e um gradiente de (-15.30, 598.250)."
   ]
  },
  {
   "cell_type": "code",
   "execution_count": 106,
   "metadata": {},
   "outputs": [
    {
     "name": "stdout",
     "output_type": "stream",
     "text": [
      "Custo: 303.99319222\n",
      "Gradiente: [ -15.30301567  598.25074417]\n"
     ]
    }
   ],
   "source": [
    "#adiciona x0 = 1 aos dados de X\n",
    "x = np.array(np.insert(np.matrix(X),[0],np.matrix(np.ones(len(X))),axis=0)).T\n",
    "y = np.array(y)\n",
    "\n",
    "initial_theta = np.ones((x.shape[1],1))\n",
    "lamda = 1\n",
    "\n",
    "J,grad = linearRegCostFunction(x,y,initial_theta,lamda)\n",
    "print \"Custo: \" + str(J) + \"\\nGradiente: \" + str(grad)"
   ]
  },
  {
   "cell_type": "markdown",
   "metadata": {},
   "source": [
    "#### 2.4 - Ajustando os parâmetros da regressão linear"
   ]
  },
  {
   "cell_type": "markdown",
   "metadata": {},
   "source": [
    "A tarefa final da parte 2 do trabalho 2A é usar a função __linearRegCostFunction__ para computar os valores\n",
    "ótimos para θ (usando GD), sem usar regularização, i.e., definindo lambda = 0, e produzir um gráfico para visualizar o modelo construído.\n",
    "A seguir é apresentada a função __gd__ atualizada para a regressão linear e o código para a tarefa de geração do gráfico."
   ]
  },
  {
   "cell_type": "code",
   "execution_count": 107,
   "metadata": {
    "collapsed": true
   },
   "outputs": [],
   "source": [
    "def gd(x,y,theta,alpha,lamda):\n",
    "    maxiterations = 100000\n",
    "    precision = 0.00001\n",
    "    converged = False\n",
    "    \n",
    "    iteration = 0\n",
    "    \n",
    "    Jtheta, grad = linearRegCostFunction(x,y,theta,lamda)\n",
    "    \n",
    "    while not converged and iteration < maxiterations:\n",
    "        iteration += 1\n",
    "        for j in range(len(theta)):\n",
    "            theta[j] = theta[j] - alpha * grad[j]\n",
    "        \n",
    "        new_Jtheta, new_grad = linearRegCostFunction(x,y,theta,lamda)\n",
    "        step = Jtheta - new_Jtheta\n",
    "        Jtheta, grad = new_Jtheta, new_grad \n",
    "\n",
    "        if step > 0 and step <= precision:\n",
    "            converged = True\n",
    "    \n",
    "    return theta,Jtheta,converged,iteration"
   ]
  },
  {
   "cell_type": "code",
   "execution_count": 108,
   "metadata": {},
   "outputs": [
    {
     "name": "stdout",
     "output_type": "stream",
     "text": [
      "GD converged: True, Iterations: 4912\n"
     ]
    },
    {
     "data": {
      "image/png": "[encoded data removed]",
      "text/plain": [
       "<matplotlib.figure.Figure at 0xdf40fd0>"
      ]
     },
     "metadata": {},
     "output_type": "display_data"
    }
   ],
   "source": [
    "#inicializa alpha e lambda\n",
    "alpha = 1e-3\n",
    "lamda = 0 #sem regularização\n",
    "\n",
    "#executa GD\n",
    "theta,Jtheta,converged,iterations = gd(x,y,initial_theta,alpha,lamda)\n",
    "print(\"GD converged: \" + str(converged) + \", Iterations: \" + str(iterations))\n",
    "\n",
    "#plota o modelo construído\n",
    "train, = plt.plot(x[:,1], y, \"x\", c=\"red\", label=\"Training data\")\n",
    "reg, = plt.plot(x[:,1],htheta(x,np.matrix(theta)), 'k' ,c=\"blue\", label=\"Linear regression\")\n",
    "plt.xlabel('Change in water level (x)')\n",
    "plt.ylabel('Water flowing out of the dam (y)')\n",
    "plt.show()"
   ]
  },
  {
   "cell_type": "markdown",
   "metadata": {},
   "source": [
    "### Trabalho 2A - Parte 3 - Viés-Variância"
   ]
  },
  {
   "cell_type": "markdown",
   "metadata": {},
   "source": [
    "Nesta parte do trabalho, a tarefa é produzir gráficos dos erros de treinamento e teste na forma de curvas de aprendizado para diagnosticar problemas de viés-variância."
   ]
  },
  {
   "cell_type": "markdown",
   "metadata": {},
   "source": [
    "#### 3.1 - Curvas de aprendizado"
   ]
  },
  {
   "cell_type": "markdown",
   "metadata": {},
   "source": [
    "O objetivo desta parte do trabalho é implementar código para gerar as curvas de aprendizado que serão úteis na depuração de algoritmos de aprendizagem. Uma curva de aprendizado traça erros de treinamento e de validação cruzada como funções do tamanho do conjunto de treinamento. Para isso, foi criada a função __learningCurve__ no arquivo __learningCurve.py__ que retorna um vetor de erros para o conjunto de treinamento e um outro vetor de erros para o conjunto de validação cruzada.\n",
    "A seguir a função __learningCurve__ pode ser observada."
   ]
  },
  {
   "cell_type": "code",
   "execution_count": 109,
   "metadata": {
    "collapsed": true
   },
   "outputs": [],
   "source": [
    "def learningCurve(x,y,xval,yval,initialTheta,alpha,lamda):\n",
    "    trainingError = []\n",
    "    valError = []\n",
    "    #para cada tamanho de conjunto de treinamento\n",
    "    for i in range(1,len(x)):\n",
    "        #subconjuntos de dados\n",
    "        x_tmp = x[:i,:]\n",
    "        y_tmp = y[:i]\n",
    "        #encontra thetas ótimos\n",
    "        theta,Jtheta,converged,iterations = gd(x_tmp,y_tmp,initialTheta,alpha,lamda)\n",
    "        if not converged:\n",
    "            raise Exception('GD with ' + str(i) + ' training examples did not converged.')\n",
    "        #computa erro de treinamento\n",
    "        errorT,grad = linearRegCostFunction(x_tmp,y_tmp,theta,0)\n",
    "        trainingError.append(errorT)\n",
    "        #computa erro de validação\n",
    "        errorVal,grad = linearRegCostFunction(xval,yval,theta,0)\n",
    "        valError.append(errorVal)\n",
    "    \n",
    "    return np.array(trainingError),np.array(valError)"
   ]
  },
  {
   "cell_type": "markdown",
   "metadata": {},
   "source": [
    "A seguir é apresentado o código usado para produzir o gráfico de curvas de aprendizado."
   ]
  },
  {
   "cell_type": "code",
   "execution_count": 110,
   "metadata": {},
   "outputs": [
    {
     "data": {
      "image/png": "[encoded data removed]",
      "text/plain": [
       "<matplotlib.figure.Figure at 0xdf405f8>"
      ]
     },
     "metadata": {},
     "output_type": "display_data"
    }
   ],
   "source": [
    "#carrega dados de validação cruzada\n",
    "Xval = mat['Xval']\n",
    "yval = mat['yval']\n",
    "xval = np.array(np.insert(np.matrix(Xval),[0],np.matrix(np.ones(len(Xval))),axis=0)).T\n",
    "yval = np.array(yval)\n",
    "\n",
    "#computa erros (eixo y)\n",
    "trainingError,valError = learningCurve(x,y,xval,yval,initial_theta,alpha,lamda)\n",
    "#tamanhos de conjuntos de treinamento considerados (eixo x)\n",
    "trainExamples = range(1,len(x))\n",
    "\n",
    "#plota curvas de aprendizado\n",
    "train, = plt.plot(trainExamples, trainingError, \"k\", c=\"blue\", label=\"Train\")\n",
    "val, = plt.plot(trainExamples,valError, 'k' ,c=\"darkGreen\", label=\"Cross Validation\")\n",
    "plt.xlabel('Number of training examples')\n",
    "plt.ylabel('Error')\n",
    "plt.title('Learning curve for linear regression')\n",
    "plt.legend(handles=[train, val], loc='upper right')\n",
    "plt.show()"
   ]
  },
  {
   "cell_type": "markdown",
   "metadata": {},
   "source": [
    "### Trabalho 2A - Parte 4 - Regressão Polinomial"
   ]
  },
  {
   "cell_type": "markdown",
   "metadata": {},
   "source": [
    "O problema com o modelo linear anterior é que ele é muito simples para os dados e resultou em subajuste (viés alto). Nesta parte, o objetivo é resolver esse problema adicionando mais características, utilizando assim a regressão polinomial.\n",
    "A tarefa desta parte, portanto, é adicionar mais características usando as pontências da característica existente _x_ no conjunto de dados. Para isso, foi implementada uma função __polyFeatures__ em um arquivo de nome __polyFeatures.py__ que mapeia o conjunto de treinamento original _X_ de tamanho _m x 1_ em suas potências mais altas, gerando a matriz _m x p_ de nome _X_poli_. O código da função é como visto a seguir."
   ]
  },
  {
   "cell_type": "code",
   "execution_count": 111,
   "metadata": {
    "collapsed": true
   },
   "outputs": [],
   "source": [
    "def polyFeatures(x, degree=8):\n",
    "    m = len(x)\n",
    "\n",
    "    featureMap = np.empty(shape=(m, degree+1), dtype=float)\n",
    "    \n",
    "    col = 0\n",
    "    for i in xrange(0,degree+1):\n",
    "        featureMap[:,col] = x[:,1]**i\n",
    "        col += 1\n",
    "    \n",
    "    featureMap = np.array(np.matrix(featureMap))\n",
    "    \n",
    "    return featureMap"
   ]
  },
  {
   "cell_type": "markdown",
   "metadata": {},
   "source": [
    "### Trabalho 2A - Parte 5 - Regressão Polinomial - aprendizado"
   ]
  },
  {
   "cell_type": "markdown",
   "metadata": {},
   "source": [
    "A tarefa nesta parte do trabalho é treinar um modelo de regressão polinomial usando a função de custo produzida para a regressão linear. Para esta parte do trabalho, foi usado um polinômio de grau 8. Porém, como as características não estão na mesma\n",
    "escala, a normalização das características se faz necessária para evitarmos resultados ruins de treinamento.\n",
    "A seguir é apresentada a função de normalização de características utilizada neste trabalho."
   ]
  },
  {
   "cell_type": "code",
   "execution_count": 112,
   "metadata": {
    "collapsed": true
   },
   "outputs": [],
   "source": [
    "def normalizarCaracteristica(x, mu=None, sigma=None):\n",
    "    m = x.shape[0]\n",
    "    \n",
    "    #se médias e desvios padrão não fornecidos, calcular\n",
    "    if mu is None:\n",
    "        mu = np.mean(x, axis=0)\n",
    "    if sigma is None:\n",
    "        sigma = np.std(x, axis=0, ddof=1)\n",
    "\n",
    "    #não altera theta0\n",
    "    mu[0] = 0.0\n",
    "    sigma[0] = 1.0\n",
    "    \n",
    "    #normaliza variáveis\n",
    "    for i in range(m):\n",
    "        x[i, :] = (x[i, :] - mu) / sigma\n",
    "\n",
    "    return x, mu, sigma"
   ]
  },
  {
   "cell_type": "markdown",
   "metadata": {},
   "source": [
    "Em seguida a tarefa é aprender os parâmetros theta usando o GD já implementado e produzir gráficos para analisar o modelo de regressão polinomial contruído com lambda = 0. A seguir são apresentados os códigos utilizados para isso, e os gráficos produzidos."
   ]
  },
  {
   "cell_type": "code",
   "execution_count": 113,
   "metadata": {},
   "outputs": [
    {
     "name": "stdout",
     "output_type": "stream",
     "text": [
      "GD converged: True, Iterations: 11514\n"
     ]
    },
    {
     "data": {
      "image/png": "[encoded data removed]",
      "text/plain": [
       "<matplotlib.figure.Figure at 0xdf23fd0>"
      ]
     },
     "metadata": {},
     "output_type": "display_data"
    }
   ],
   "source": [
    "#mapeia dados para potências mais altas\n",
    "x_poly = polyFeatures(x,8)\n",
    "#normaliza características\n",
    "x_norm, mu, sigma = normalizarCaracteristica(x_poly)\n",
    "\n",
    "#define theta inicial\n",
    "initial_theta = np.ones((x_norm.shape[1],1))\n",
    "#define alpha\n",
    "alpha = 1e-2\n",
    "\n",
    "#aprende parâmetros theta\n",
    "theta,Jtheta,converged,iterations = gd(x_norm,y,initial_theta,alpha,lamda)\n",
    "print(\"GD converged: \" + str(converged) + \", Iterations: \" + str(iterations))\n",
    "\n",
    "#plota ajuste polinomial\n",
    "x_train = np.array(np.matrix(np.arange(min(x[:,1]) - 15, max(x[:,1]) + 25, 0.05)))\n",
    "x_train = np.array(np.insert(np.matrix(x_train),[0],np.matrix(np.ones(len(x_train))),axis=0)).T\n",
    "x_poly_train = polyFeatures(x_train,8)\n",
    "x_norm_train, mu, sigma = normalizarCaracteristica(x_poly_train, mu, sigma)\n",
    "y_train = htheta(x_norm_train,np.matrix(theta))\n",
    "reg, = plt.plot(x_train[:,1], y_train, '--' ,c=\"blue\", label=\"Polynomial regression\")\n",
    "train, = plt.plot(x[:,1], y, \"x\", c=\"red\", label=\"Training data\")\n",
    "plt.xlabel('Change in water level (x)')\n",
    "plt.ylabel('Water flowing out of the dam (y)')\n",
    "plt.title('Polynomial regression (lambda = 0.0)')\n",
    "plt.legend(handles=[train, reg], loc='lower right')\n",
    "plt.show()"
   ]
  },
  {
   "cell_type": "code",
   "execution_count": 118,
   "metadata": {},
   "outputs": [
    {
     "data": {
      "image/png": "[encoded data removed]",
      "text/plain": [
       "<matplotlib.figure.Figure at 0xd49fb00>"
      ]
     },
     "metadata": {},
     "output_type": "display_data"
    }
   ],
   "source": [
    "#mapeia dados para potências mais altas\n",
    "xval_poly = polyFeatures(xval,8)\n",
    "#normaliza características\n",
    "xval_norm, mu, sigma = normalizarCaracteristica(xval_poly)\n",
    "\n",
    "#define theta inicial\n",
    "initial_theta = np.ones((x_norm.shape[1],1))\n",
    "\n",
    "#computa erros (eixo y)\n",
    "trainingError,valError = learningCurve(x_norm,y,xval_norm,yval,initial_theta,alpha,lamda)\n",
    "#tamanhos de conjuntos de treinamento considerados (eixo x)\n",
    "trainExamples = range(1,len(x))\n",
    "\n",
    "#plota curvas de aprendizado\n",
    "train, = plt.plot(trainExamples, trainingError, \"k\", c=\"blue\", label=\"Train\")\n",
    "val, = plt.plot(trainExamples,valError, 'k' ,c=\"darkGreen\", label=\"Cross Validation\")\n",
    "plt.xlabel('Number of training examples')\n",
    "plt.ylabel('Error')\n",
    "plt.title('Polynomial Regression Learning Curve (lambda = 0.0)')\n",
    "plt.legend(handles=[train, val], loc='upper right')\n",
    "plt.show()"
   ]
  },
  {
   "cell_type": "code",
   "execution_count": null,
   "metadata": {
    "collapsed": true
   },
   "outputs": [],
   "source": []
  }
 ],
 "metadata": {
  "celltoolbar": "Attachments",
  "kernelspec": {
   "display_name": "Python 2",
   "language": "python",
   "name": "python2"
  },
  "language_info": {
   "codemirror_mode": {
    "name": "ipython",
    "version": 2
   },
   "file_extension": ".py",
   "mimetype": "text/x-python",
   "name": "python",
   "nbconvert_exporter": "python",
   "pygments_lexer": "ipython2",
   "version": "2.7.13"
  }
 },
 "nbformat": 4,
 "nbformat_minor": 2
}
